{
 "cells": [
  {
   "cell_type": "markdown",
   "metadata": {},
   "source": [
    "# Validating a channel model IV curve with data from an experiment"
   ]
  },
  {
   "cell_type": "code",
   "execution_count": 1,
   "metadata": {
    "collapsed": false
   },
   "outputs": [],
   "source": [
    "import rickpy\n",
    "rickpy.use_dev_packages(['scidash/sciunit','scidash/neuronunit'])\n",
    "\n",
    "# Imports and preliminaries.  \n",
    "%matplotlib inline\n",
    "import os,sys\n",
    "import numpy as np\n",
    "import quantities as pq\n",
    "\n",
    "CW_HOME = os.path.split(os.path.realpath(os.path.pardir))[0] # Location of your ChannelWorm repo\n",
    "sys.path.insert(1,CW_HOME)\n",
    "\n",
    "from channelworm.fitter.initiators import Initiator"
   ]
  },
  {
   "cell_type": "markdown",
   "metadata": {},
   "source": [
    "## Compare the IV curve predicted from the channel model to that observed from the data"
   ]
  },
  {
   "cell_type": "code",
   "execution_count": 2,
   "metadata": {
    "collapsed": false
   },
   "outputs": [],
   "source": [
    "from neuronunit.tests.channel import IVCurvePeakTest\n",
    "from neuronunit.models.channel import ChannelModel"
   ]
  },
  {
   "cell_type": "code",
   "execution_count": 3,
   "metadata": {
    "collapsed": false
   },
   "outputs": [],
   "source": [
    "# Instantiate the model\n",
    "channel_model_name = 'SLO-2.channel'\n",
    "channel_id = 'ca_boyle'\n",
    "channel_file_path = os.path.join(CW_HOME,'models','%s.nml' % channel_model_name)\n",
    "\n",
    "model = ChannelModel(channel_file_path,channel_index=0,name=channel_model_name)"
   ]
  },
  {
   "cell_type": "code",
   "execution_count": 4,
   "metadata": {
    "collapsed": false
   },
   "outputs": [],
   "source": [
    "# Get the experiment data from ChannelWorm and instantiate the test\n",
    "\n",
    "import os, sys\n",
    "import django\n",
    "\n",
    "sys.path.append(os.path.join(CW_HOME,'channelworm')) # Change the path if needed\n",
    "os.environ.setdefault(\n",
    "    \"DJANGO_SETTINGS_MODULE\",\n",
    "    \"web_app.settings\"\n",
    ")\n",
    "django.setup()\n",
    "\n",
    "from channelworm.ion_channel.models import GraphData\n",
    "\n",
    "doi = '10.1113/jphysiol.2010.200683'\n",
    "fig = '7B'\n",
    "sample_data = GraphData.objects.get(graph__experiment__reference__doi=doi, graph__figure_ref_address=fig)\n",
    "obs = list(zip(*sample_data.asarray())) \n",
    "observation = {'i/C':obs[1]*pq.A/pq.F, 'v':obs[0]*pq.mV}\n",
    "cell_capacitance = 1.5e-14 * pq.F # Capacitance is arbitrary if IV curves are scaled.  \n",
    "observation['i'] = observation['i/C']*cell_capacitance\n",
    "\n",
    "test = IVCurvePeakTest(observation, scale=False)"
   ]
  },
  {
   "cell_type": "code",
   "execution_count": 5,
   "metadata": {
    "collapsed": false
   },
   "outputs": [
    {
     "name": "stdout",
     "output_type": "stream",
     "text": [
      "=== Model SLO-2.channel achieved score Fail on test 'IV Curve Test'. ===\n",
      "The score was computed according to 'The sum-squared difference in the observed and predicted current values over the range of the tested holding potentials.' with raw value 113.5 pA**2 and pass cutoff 1.0 pA**2\n",
      "The scaling factor for the model IV curve was 1\n"
     ]
    }
   ],
   "source": [
    "# Judge the model output against the experimental data\n",
    "score = test.judge(model)\n",
    "score.summarize()\n",
    "print(\"The score was computed according to '%s' with raw value %s and pass cutoff %s\" \\\n",
    "    % (score.description,score.raw(),test.converter.cutoff))\n",
    "print('The scaling factor for the model IV curve was %.3g' % score.related_data['scale_factor'])"
   ]
  },
  {
   "cell_type": "code",
   "execution_count": 6,
   "metadata": {
    "collapsed": false
   },
   "outputs": [
    {
     "data": {
      "image/png": "[encoded data removed]",
      "text/plain": [
       "<matplotlib.figure.Figure at 0x10d763470>"
      ]
     },
     "metadata": {},
     "output_type": "display_data"
    }
   ],
   "source": [
    "rd = score.related_data\n",
    "score.plot(rd['v'],rd['i_obs'],color='k',label='Observed (data)')\n",
    "score.plot(rd['v'],rd['i_pred'],same_fig=True,color='r',label='Predicted (model)')"
   ]
  }
 ],
 "metadata": {
  "kernelspec": {
   "display_name": "Python 3",
   "language": "python",
   "name": "python3"
  },
  "language_info": {
   "codemirror_mode": {
    "name": "ipython",
    "version": 3
   },
   "file_extension": ".py",
   "mimetype": "text/x-python",
   "name": "python",
   "nbconvert_exporter": "python",
   "pygments_lexer": "ipython3",
   "version": "3.4.1"
  }
 },
 "nbformat": 4,
 "nbformat_minor": 0
}
